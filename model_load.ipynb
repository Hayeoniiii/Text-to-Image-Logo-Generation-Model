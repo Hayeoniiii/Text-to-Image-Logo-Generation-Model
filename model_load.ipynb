{
  "nbformat": 4,
  "nbformat_minor": 0,
  "metadata": {
    "colab": {
      "provenance": []
    },
    "kernelspec": {
      "name": "python3",
      "display_name": "Python 3"
    },
    "language_info": {
      "name": "python"
    }
  },
  "cells": [
    {
      "cell_type": "code",
      "execution_count": 2,
      "metadata": {
        "colab": {
          "base_uri": "https://localhost:8080/",
          "height": 108
        },
        "id": "ANkjkYm3gRCy",
        "outputId": "ba25c054-0af3-40fa-fc0d-dd8a4b5c2269"
      },
      "outputs": [
        {
          "output_type": "error",
          "ename": "SyntaxError",
          "evalue": "invalid syntax (ipython-input-2-1065455853.py, line 1)",
          "traceback": [
            "\u001b[0;36m  File \u001b[0;32m\"/tmp/ipython-input-2-1065455853.py\"\u001b[0;36m, line \u001b[0;32m1\u001b[0m\n\u001b[0;31m    pip install --upgrade torch torchvision torchaudio --index-url https://download.pytorch.org/whl/cu121\u001b[0m\n\u001b[0m        ^\u001b[0m\n\u001b[0;31mSyntaxError\u001b[0m\u001b[0;31m:\u001b[0m invalid syntax\n"
          ]
        }
      ],
      "source": [
        "#PyTorch 버전\n",
        "!pip install --upgrade torch torchvision torchaudio --index-url https://download.pytorch.org/whl/cu121\n",
        "\n",
        "#패키지 설치\n",
        "!pip install \\\n",
        "  transformers==4.47.0 \\\n",
        "  accelerate==1.2.0 \\\n",
        "  peft>=0.14.0 \\\n",
        "  wandb \\\n",
        "  datasets \\\n",
        "  packaging \\\n",
        "  tqdm \\\n",
        "  sentencepiece \\\n",
        "  huggingface_hub\n",
        "\n",
        "#diffusers 라이브러리\n",
        "!pip install git+https://github.com/huggingface/diffusers.git"
      ]
    },
    {
      "cell_type": "code",
      "source": [
        "#Huggingface 로그인\n",
        "huggingface-cli login"
      ],
      "metadata": {
        "id": "y55_PulngTqE"
      },
      "execution_count": null,
      "outputs": []
    },
    {
      "cell_type": "code",
      "source": [
        "#원하는 모델 수동 다운로드\n",
        "huggingface-cli download logologolab/simple_minimal_logo_lora --local-dir ./downloaded_lora\n",
        "huggingface-cli download logologolab/retro_vintage_logo_lora --local-dir ./downloaded_lora\n",
        "huggingface-cli download logologolab/cute_playful_logo_lora --local-dir ./downloaded_lora\n",
        "huggingface-cli download logologolab/luxury_premium_logo_lora --local-dir ./downloaded_lora"
      ],
      "metadata": {
        "id": "ZpPCLrxlganf"
      },
      "execution_count": null,
      "outputs": []
    }
  ]
}