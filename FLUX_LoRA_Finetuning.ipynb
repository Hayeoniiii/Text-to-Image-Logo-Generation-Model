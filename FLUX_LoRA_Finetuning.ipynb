{
  "nbformat": 4,
  "nbformat_minor": 0,
  "metadata": {
    "colab": {
      "provenance": []
    },
    "kernelspec": {
      "name": "python3",
      "display_name": "Python 3"
    },
    "language_info": {
      "name": "python"
    }
  },
  "cells": [
    {
      "cell_type": "code",
      "source": [
        "!pip install \\\n",
        "  transformers==4.47.0 \\\n",
        "  accelerate==1.2.0 \\\n",
        "  torch torchvision \\\n",
        "  peft>=0.14.0 \\\n",
        "  wandb datasets \\\n",
        "  packaging tqdm"
      ],
      "metadata": {
        "id": "Ig9KcvQshNtk"
      },
      "execution_count": null,
      "outputs": []
    },
    {
      "cell_type": "code",
      "source": [
        "!pip install sentencepiece\n",
        "!pip install diffusers\n",
        "!pip install git+https://github.com/huggingface/diffusers.git\n",
        "!pip install huggingface_hub"
      ],
      "metadata": {
        "id": "IaWW9GRghOw7"
      },
      "execution_count": null,
      "outputs": []
    },
    {
      "cell_type": "code",
      "source": [
        "#huggingface login\n",
        "huggingface-cli login"
      ],
      "metadata": {
        "id": "uZZuRsqQhhrM"
      },
      "execution_count": null,
      "outputs": []
    },
    {
      "cell_type": "code",
      "source": [
        "#accelrate 설정\n",
        "accelerate config\n",
        "\n",
        "'''\n",
        "- Compute environment: This machine\n",
        "- Use FP16 or BF16: bf16\n",
        "- Multi-GPU: No\n",
        "'''"
      ],
      "metadata": {
        "id": "aCxE2g-qhnT0"
      },
      "execution_count": null,
      "outputs": []
    },
    {
      "cell_type": "code",
      "source": [
        "#diffusers 라이브러리\n",
        "git clone https://github.com/huggingface/diffusers.git\n",
        "cd diffusers/examples/dreambooth"
      ],
      "metadata": {
        "id": "pgU9An1Nh7HT"
      },
      "execution_count": null,
      "outputs": []
    },
    {
      "cell_type": "code",
      "source": [
        "#LoRA 학습 스크립트\n",
        "accelerate launch train_dreambooth_lora_flux.py \\\n",
        "  --pretrained_model_name_or_path black-forest-labs/FLUX.1-dev \\\n",
        "  --instance_data_dir /workspace/simple_minimal_dataset \\ #dataset\n",
        "  --instance_prompt \"logo of my brand\" \\ #학습시킬 프롬프트 작성\n",
        "  --resolution 1024 \\\n",
        "  --train_batch_size 2 \\\n",
        "  --num_train_epochs 5 \\\n",
        "  --rank 4 \\\n",
        "  --lora_dropout 0.1 \\\n",
        "  --gradient_checkpointing \\\n",
        "  --scale_lr \\\n",
        "  --mixed_precision bf16 \\\n",
        "  --learning_rate 1e-4 \\\n",
        "  --output_dir ./logo_lora \\\n",
        "  --push_to_hub \\\n",
        "  --hub_model_id logologolab/simple_minimal_logo_lora #업로드할 huggingface id"
      ],
      "metadata": {
        "id": "1HSCbnThiYfR"
      },
      "execution_count": null,
      "outputs": []
    }
  ]
}